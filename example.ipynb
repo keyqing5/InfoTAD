{
 "cells": [
  {
   "cell_type": "code",
   "execution_count": null,
   "outputs": [],
   "source": [
    "\"\"\"\n",
    "# generate simulated input data and ground truth labels\n",
    "# eg.\n",
    "cd InfoTAD/scripts\n",
    "python generate_sim_batch.py -N 0.1 -M 10 -m 8 -S 10 -s 8 -e 0.7 -T 1 -D ./example_data/\n",
    "\"\"\""
   ],
   "metadata": {
    "collapsed": false
   }
  },
  {
   "cell_type": "code",
   "execution_count": 4,
   "outputs": [
    {
     "name": "stdout",
     "output_type": "stream",
     "text": [
      "[[       inf        inf        inf ...        inf        inf        inf]\n",
      " [       inf        inf        inf ...        inf        inf        inf]\n",
      " [       inf        inf        inf ...        inf        inf        inf]\n",
      " ...\n",
      " [       inf        inf        inf ...        inf        inf        inf]\n",
      " [       inf        inf        inf ...        inf        inf        inf]\n",
      " [9.49984589        inf        inf ... 2.00974952        inf 2.        ]]\n",
      "opt list:  [([0, 9, 17, 25, 34, 42, 51, 60], [8, 16, 24, 33, 41, 50, 59, 67])]\n",
      "min value:  5.706785364666595\n",
      "[([0, 9, 17, 25, 34, 42, 51, 60], [8, 16, 24, 33, 41, 50, 59, 67])]\n",
      "Detected boundaries:  ([0, 9, 17, 25, 34, 42, 51, 60], [8, 16, 24, 33, 41, 50, 59, 67])\n",
      "Infomap entropy values:  5.706785364666595\n"
     ]
    }
   ],
   "source": [
    "# run simulated data\n",
    "import numpy as np\n",
    "import src.detector_v2 as caller\n",
    "\n",
    "\n",
    "input_matrix = np.loadtxt(\"example_data/simulation_data.txt\")\n",
    "detect = caller.TADDetector(input_matrix=input_matrix, KR_norm=False, acc_mode=True)\n",
    "detect.construct_one_layer(filename=\"simulate_data\")\n",
    "bound = detect.opt_bound_list[0]\n",
    "print(\"Detected boundaries: \", bound)\n",
    "print(\"Infomap entropy values: \", detect.min_entro)"
   ],
   "metadata": {
    "collapsed": false
   }
  },
  {
   "cell_type": "code",
   "execution_count": 5,
   "outputs": [
    {
     "name": "stdout",
     "output_type": "stream",
     "text": [
      "ARI:  1.0\n"
     ]
    }
   ],
   "source": [
    "# compute ARI\n",
    "from sklearn.metrics.cluster import adjusted_rand_score\n",
    "\n",
    "\n",
    "def generate_true(filename=None):\n",
    "    f = open(filename, \"r\")\n",
    "    flag = True\n",
    "    input_struc = []\n",
    "    while flag is True:\n",
    "        content = f.readline()\n",
    "        if content == '':\n",
    "            flag = False\n",
    "            break\n",
    "        content = content.strip(' \\n')\n",
    "        list_i = content.split(' ')\n",
    "        arr_tmp = np.array(list_i).astype(dtype=int)\n",
    "        arr_tmp = arr_tmp - 1\n",
    "        # arr_tmp.tolist()\n",
    "        input_struc.append(arr_tmp)\n",
    "    f.close()\n",
    "    # input_struc = input_struc - 1\n",
    "    n_samples = input_struc[-1][-1] + 1\n",
    "    label_true = np.zeros(shape=(n_samples,))\n",
    "    for i in range(len(input_struc)):\n",
    "        start = input_struc[i][0]\n",
    "        end = input_struc[i][-1]\n",
    "        label_true[start:end+1, ] = i\n",
    "    return label_true\n",
    "\n",
    "def generate_pred(input_pred):\n",
    "    n_samples = input_pred[1][-1] + 1\n",
    "    # construct the label vector\n",
    "    label_pred = np.zeros(shape=(n_samples,))\n",
    "    if len(input_pred)>1:\n",
    "        for i in range(len(input_pred[0])):\n",
    "            start = input_pred[0][i]\n",
    "            end = input_pred[1][i]\n",
    "            label_pred[start:end+1, ] = i\n",
    "    return label_pred\n",
    "\n",
    "label_dir = \"example_data/label.txt\"\n",
    "gt_label = generate_true(label_dir)\n",
    "ari = adjusted_rand_score(gt_label, generate_pred(bound))\n",
    "print(\"ARI: \",ari)"
   ],
   "metadata": {
    "collapsed": false
   }
  },
  {
   "cell_type": "code",
   "execution_count": null,
   "outputs": [],
   "source": [],
   "metadata": {
    "collapsed": false
   }
  }
 ],
 "metadata": {
  "kernelspec": {
   "display_name": "Python 3",
   "language": "python",
   "name": "python3"
  },
  "language_info": {
   "codemirror_mode": {
    "name": "ipython",
    "version": 2
   },
   "file_extension": ".py",
   "mimetype": "text/x-python",
   "name": "python",
   "nbconvert_exporter": "python",
   "pygments_lexer": "ipython2",
   "version": "2.7.6"
  }
 },
 "nbformat": 4,
 "nbformat_minor": 0
}
